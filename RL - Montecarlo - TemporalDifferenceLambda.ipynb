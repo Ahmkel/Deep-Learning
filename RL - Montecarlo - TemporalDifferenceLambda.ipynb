{
 "cells": [
  {
   "cell_type": "markdown",
   "metadata": {},
   "source": [
    "# Introduction"
   ]
  },
  {
   "cell_type": "markdown",
   "metadata": {},
   "source": [
    "This notebook contains an implementation of TemporalDifferenceLambda and a naive implementation of MonteCarlo method for evaluation of a simple policy of a simple MDP."
   ]
  },
  {
   "cell_type": "markdown",
   "metadata": {},
   "source": [
    "# MDP"
   ]
  },
  {
   "cell_type": "code",
   "execution_count": 1,
   "metadata": {
    "collapsed": false
   },
   "outputs": [
    {
     "data": {
      "text/plain": [
       "<matplotlib.image.AxesImage at 0xe1e5007358>"
      ]
     },
     "execution_count": 1,
     "metadata": {},
     "output_type": "execute_result"
    },
    {
     "data": {
      "image/png": "[encoded data removed]",
      "text/plain": [
       "<matplotlib.figure.Figure at 0xe1e5007390>"
      ]
     },
     "metadata": {},
     "output_type": "display_data"
    }
   ],
   "source": [
    "import numpy as np\n",
    "import matplotlib.pyplot as plt\n",
    "from PIL import Image\n",
    "import random\n",
    "\n",
    "%matplotlib inline\n",
    "\n",
    "mdp = Image.open('./mdp.PNG', 'r')\n",
    "plt.axis('off')\n",
    "plt.imshow(mdp)"
   ]
  },
  {
   "cell_type": "code",
   "execution_count": 2,
   "metadata": {
    "collapsed": true
   },
   "outputs": [],
   "source": [
    "import numpy as np\n",
    "import random\n",
    "\n",
    "#Montecarlo\n",
    "def model_free_prediction_mc(num_states = 5, num_episodes = 10000, learning_rate=None):\n",
    "\n",
    "    state_values = np.zeros((num_states,))\n",
    "    state_occurences = np.zeros((num_states,))\n",
    "    for episode in range(num_episodes):\n",
    "        # Start at mid\n",
    "        location = (num_states + 1)//2\n",
    "        reward = 0\n",
    "        # Terminate at End\n",
    "        visited_states = []\n",
    "        while location > 0 and location < num_states + 1:\n",
    "            # Add curr location to visited states\n",
    "            visited_states.append(location)\n",
    "            # Generate action based on policy (left: -1, right: 1)\n",
    "            action = -1 if random.randint(0, 1) else 1\n",
    "            # Apply action (change location)\n",
    "            location += action\n",
    "        reward = 0 if not location else 1\n",
    "        # Update states based on reward using Montecarlo\n",
    "        lr = learning_rate\n",
    "        for idx, state in enumerate(visited_states):\n",
    "            state_occurences[state - 1] += 1\n",
    "            if not learning_rate:\n",
    "                lr = 1.0 / state_occurences[state - 1]\n",
    "            state_values[state - 1] = state_values[state - 1] + lr * (reward - state_values[state - 1])\n",
    "        tenth = np.ceil(num_episodes / 10)\n",
    "        if episode%tenth == 0:\n",
    "            print(episode)\n",
    "    print(episode)\n",
    "        \n",
    "    return state_values, state_occurences"
   ]
  },
  {
   "cell_type": "code",
   "execution_count": 3,
   "metadata": {
    "collapsed": false,
    "scrolled": false
   },
   "outputs": [
    {
     "name": "stdout",
     "output_type": "stream",
     "text": [
      "0\n",
      "1000\n",
      "2000\n",
      "3000\n",
      "4000\n",
      "5000\n",
      "6000\n",
      "7000\n",
      "8000\n",
      "9000\n",
      "9999\n",
      "[ 0.17613927  0.34773273  0.51507053  0.68140422  0.84246714]\n"
     ]
    },
    {
     "data": {
      "text/plain": [
       "[<matplotlib.lines.Line2D at 0xe1e72ce588>]"
      ]
     },
     "execution_count": 3,
     "metadata": {},
     "output_type": "execute_result"
    },
    {
     "data": {
      "image/png": "[encoded data removed]",
      "text/plain": [
       "<matplotlib.figure.Figure at 0xe1e728a588>"
      ]
     },
     "metadata": {},
     "output_type": "display_data"
    }
   ],
   "source": [
    "mc_values = model_free_prediction_mc()[0]\n",
    "print(mc_values)\n",
    "plt.plot(range(5), mc_values)"
   ]
  },
  {
   "cell_type": "code",
   "execution_count": 4,
   "metadata": {
    "collapsed": true
   },
   "outputs": [],
   "source": [
    "def td_lambda_forward_view(num_states = 5, num_episodes = 10000, learning_rate=None, decay=1.0, Y=1.0, debug=False):\n",
    "\n",
    "    state_values = np.zeros((num_states+2,))\n",
    "    state_occurences = np.zeros((num_states,))\n",
    "    episode_tenth = np.ceil(num_episodes / 10)\n",
    "    for episode in range(num_episodes):\n",
    "        # Start at mid\n",
    "        state = (num_states + 1)//2\n",
    "        # Terminate at End\n",
    "        visited_states = []\n",
    "        rewards = []\n",
    "        while state > 0 and state < num_states + 1:\n",
    "            # Increment occurences of curr state\n",
    "            state_occurences[state - 1] += 1\n",
    "            \n",
    "            # Generate action based on policy (left: -1, right: 1)\n",
    "            action = -1 if random.randint(0, 1) else 1\n",
    "            \n",
    "            # Calc next state St+1\n",
    "            next_state = state + action\n",
    "            \n",
    "            # Calc instant reward(St, At)\n",
    "            reward = 1 if next_state == num_states + 1 else 0\n",
    "            rewards.append(reward)\n",
    "            \n",
    "            # Save curr state\n",
    "            visited_states.append(state)\n",
    "            \n",
    "            # Update state\n",
    "            state = next_state\n",
    "                \n",
    "        G_lambda = np.zeros((len(visited_states),))\n",
    "        # Calc G for all states\n",
    "        for j in range(len(visited_states) - 1):\n",
    "            curr_lambda = 1\n",
    "            for i in range(len(visited_states) - 1 - j):\n",
    "                G = np.sum(rewards[j : j + i + 1]) + state_values[visited_states[j + i + 1]]\n",
    "                G_lambda[j] += curr_lambda * (1 - Y) * G\n",
    "                curr_lambda *= Y\n",
    "            G_lambda[j] += curr_lambda * np.sum(rewards[j:])\n",
    "        G_lambda[j + 1] = rewards[j + 1]\n",
    "                \n",
    "        # Update Value Function TD\n",
    "        for idx, state in enumerate(visited_states):    \n",
    "            #V(St) = V(St) + lr * (G_lambda(t) - V(St))\n",
    "            lr = learning_rate\n",
    "            if not learning_rate:\n",
    "                lr = 1.0 / state_occurences[state - 1]\n",
    "            state_values[state] = state_values[state] + lr * (G_lambda[idx] - state_values[state])\n",
    "            \n",
    "        if episode % episode_tenth == 0:\n",
    "            print(episode)\n",
    "    print(episode)\n",
    "        \n",
    "    return state_values[1:-1], state_occurences"
   ]
  },
  {
   "cell_type": "code",
   "execution_count": 5,
   "metadata": {
    "collapsed": false
   },
   "outputs": [
    {
     "name": "stdout",
     "output_type": "stream",
     "text": [
      "0\n",
      "1000\n",
      "2000\n",
      "3000\n",
      "4000\n",
      "5000\n",
      "6000\n",
      "7000\n",
      "8000\n",
      "9000\n",
      "9999\n",
      "[ 0.17230529  0.33652796  0.50025093  0.66782145  0.83844721]\n"
     ]
    },
    {
     "data": {
      "text/plain": [
       "[<matplotlib.lines.Line2D at 0xe1e7357be0>]"
      ]
     },
     "execution_count": 5,
     "metadata": {},
     "output_type": "execute_result"
    },
    {
     "data": {
      "image/png": "[encoded data removed]",
      "text/plain": [
       "<matplotlib.figure.Figure at 0xe1e7288748>"
      ]
     },
     "metadata": {},
     "output_type": "display_data"
    }
   ],
   "source": [
    "td_lambda_values = td_lambda_forward_view()[0]\n",
    "print(td_lambda_values)\n",
    "plt.plot(range(5), td_lambda_values)"
   ]
  }
 ],
 "metadata": {
  "kernelspec": {
   "display_name": "Python 3",
   "language": "python",
   "name": "python3"
  },
  "language_info": {
   "codemirror_mode": {
    "name": "ipython",
    "version": 3
   },
   "file_extension": ".py",
   "mimetype": "text/x-python",
   "name": "python",
   "nbconvert_exporter": "python",
   "pygments_lexer": "ipython3",
   "version": "3.5.2"
  }
 },
 "nbformat": 4,
 "nbformat_minor": 0
}

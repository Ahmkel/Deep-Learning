{
 "cells": [
  {
   "cell_type": "markdown",
   "metadata": {},
   "source": [
    "This notebook contains a solution for the CartPole problem using Actor-Critic policy gradient method with experience replay where the critic predicts the state value function, the updates are based on TD(0), and the advantage function is:"
   ]
  },
  {
   "cell_type": "code",
   "execution_count": 2,
   "metadata": {
    "collapsed": false
   },
   "outputs": [
    {
     "data": {
      "text/latex": [
       "$$A^{\\pi_\\theta}(s,a) = r + \\gamma V_v(S_{t+1}) - V_v(S_t)$$"
      ],
      "text/plain": [
       "<IPython.core.display.Math object>"
      ]
     },
     "metadata": {},
     "output_type": "display_data"
    }
   ],
   "source": [
    "from IPython.display import display, Math\n",
    "display(Math(r'A^{\\pi_\\theta}(s,a) = r + \\gamma V_v(S_{t+1}) - V_v(S_t)'))"
   ]
  },
  {
   "cell_type": "code",
   "execution_count": 12,
   "metadata": {
    "collapsed": false,
    "scrolled": false
   },
   "outputs": [
    {
     "name": "stderr",
     "output_type": "stream",
     "text": [
      "[2017-08-05 20:32:59,317] Making new env: CartPole-v0\n"
     ]
    },
    {
     "name": "stdout",
     "output_type": "stream",
     "text": [
      "Episode: 49, Mean reward: 15\n",
      "Episode: 99, Mean reward: 14\n",
      "Episode: 149, Mean reward: 15\n",
      "Episode: 199, Mean reward: 20\n",
      "Episode: 249, Mean reward: 30\n",
      "Episode: 299, Mean reward: 52\n",
      "Episode: 349, Mean reward: 84\n",
      "Episode: 399, Mean reward: 144\n",
      "Episode: 449, Mean reward: 192\n",
      "Episode: 499, Mean reward: 184\n",
      "Episode: 549, Mean reward: 186\n",
      "Mean reward:  98.1541155867\n",
      "Max 100 rewards mean:  199.69\n",
      "Max 100 rewards from episode: 471, to episode: 570\n"
     ]
    },
    {
     "data": {
      "image/png": "[encoded data removed]",
      "text/plain": [
       "<matplotlib.figure.Figure at 0x43c705f588>"
      ]
     },
     "metadata": {},
     "output_type": "display_data"
    },
    {
     "name": "stdout",
     "output_type": "stream",
     "text": [
      "Play 20 times with optimal policy\n",
      "Iteration: 0, Total Reward: 200\n",
      "Iteration: 1, Total Reward: 200\n",
      "Iteration: 2, Total Reward: 200\n",
      "Iteration: 3, Total Reward: 200\n",
      "Iteration: 4, Total Reward: 200\n",
      "Iteration: 5, Total Reward: 200\n",
      "Iteration: 6, Total Reward: 200\n",
      "Iteration: 7, Total Reward: 200\n",
      "Iteration: 8, Total Reward: 200\n",
      "Iteration: 9, Total Reward: 200\n",
      "Iteration: 10, Total Reward: 200\n",
      "Iteration: 11, Total Reward: 200\n",
      "Iteration: 12, Total Reward: 200\n",
      "Iteration: 13, Total Reward: 200\n",
      "Iteration: 14, Total Reward: 200\n",
      "Iteration: 15, Total Reward: 200\n",
      "Iteration: 16, Total Reward: 200\n",
      "Iteration: 17, Total Reward: 200\n",
      "Iteration: 18, Total Reward: 200\n",
      "Iteration: 19, Total Reward: 200\n"
     ]
    }
   ],
   "source": [
    "import numpy as np\n",
    "import tensorflow as tf\n",
    "import gym\n",
    "import random\n",
    "import matplotlib.pyplot as plt\n",
    "from collections import deque\n",
    "\n",
    "%matplotlib inline\n",
    "\n",
    "env = gym.make('CartPole-v0')\n",
    "max_num_episodes = 10000\n",
    "checkpoint = 50\n",
    "experience_replay_maxlen = 10000\n",
    "batch_size = 128\n",
    "\n",
    "actor_learning_rate = 5e-3\n",
    "critic_learning_rate = 5e-4\n",
    "\n",
    "decay = 0.99\n",
    " \n",
    "class Actor:\n",
    "    def __init__(self):\n",
    "        with tf.variable_scope('Actor'):\n",
    "            self._X = tf.placeholder(dtype=tf.float32, shape=(None, 4))\n",
    "            self._rewards = tf.placeholder(dtype=tf.float32, shape=(None,1))\n",
    "            self._logits = tf.contrib.layers.fully_connected(self._X, 2, activation_fn=None)\n",
    "            self._policy = tf.contrib.layers.softmax(self._logits)\n",
    "            self._actions = tf.placeholder(dtype=tf.float32, shape=(None,2))\n",
    "            self._delta = tf.log(tf.reduce_sum(tf.mul(self._policy, self._actions), axis=1)) * self._rewards\n",
    "            self._train_step = tf.train.AdamOptimizer(learning_rate=actor_learning_rate).minimize(-1 * self._delta)\n",
    "\n",
    "    def predict_policy(self, state):\n",
    "        return self._policy.eval(feed_dict={self._X: state.reshape((-1, 4))})\n",
    "    \n",
    "    def train_policy(self, states, actions, rewards):\n",
    "        actions_mask = np.zeros((len(actions), 2))\n",
    "        actions_mask[range(len(actions)), actions] = 1\n",
    "        return self._train_step.run(feed_dict={self._X: states.reshape((-1, 4)), self._actions: actions_mask, self._rewards: rewards.reshape((-1,1))})\n",
    "\n",
    "class Critic:\n",
    "    def __init__(self):\n",
    "        with tf.variable_scope('Critic'):\n",
    "            self._X = tf.placeholder(dtype=tf.float32, shape=(None, 4))\n",
    "            self._y = tf.placeholder(dtype=tf.float32, shape=(None, 1))\n",
    "            self._net = tf.contrib.layers.fully_connected(self._X, 30)\n",
    "            self._net = tf.contrib.layers.fully_connected(self._X, 30)\n",
    "            self._Q = tf.contrib.layers.fully_connected(self._net, 1, activation_fn=None)\n",
    "            self._mse = tf.contrib.losses.mean_squared_error(self._y, self._Q)\n",
    "            self._train_step = tf.train.AdamOptimizer(learning_rate=critic_learning_rate).minimize(self._mse)\n",
    "\n",
    "    def predict_Q(self, state):\n",
    "        return self._Q.eval(feed_dict={self._X: state.reshape((-1, 4))})\n",
    "    \n",
    "    def train_Q(self, states, targets):\n",
    "        return self._train_step.run(feed_dict={self._X: states.reshape((-1, 4)), self._y: targets.reshape((-1, 1))})\n",
    "        \n",
    "def stats(rewards):\n",
    "    print(\"Mean reward: \", np.mean(rewards))\n",
    "    rewards_100 = []\n",
    "    for i in range(100, len(rewards) + 1):\n",
    "        rewards_100.append(np.mean(rewards[i-100:i]))\n",
    "    print(\"Max 100 rewards mean: \", np.max(rewards_100))\n",
    "    re = np.argmax(rewards_100)\n",
    "    print(\"Max 100 rewards from episode: %d, to episode: %d\" % (re, re + 99))\n",
    "    plt.plot(rewards_100)\n",
    "    plt.show()\n",
    "\n",
    "tf.reset_default_graph()\n",
    "all_rewards = []\n",
    "\n",
    "actor = Actor()\n",
    "critic = Critic()\n",
    "\n",
    "sess = tf.InteractiveSession()\n",
    "tf.global_variables_initializer().run()\n",
    "\n",
    "\n",
    "experiences_memory = deque(maxlen=experience_replay_maxlen)\n",
    "for episode in range(max_num_episodes):\n",
    "    state = env.reset()\n",
    "    epsilon = 1./((episode/50) + 10)\n",
    "    done = False\n",
    "    episode_reward = 0\n",
    "    while not done:\n",
    "        action = np.random.choice(range(2), p=actor.predict_policy(state)[0])\n",
    "\n",
    "        # Perform action\n",
    "        next_state, reward, done, _ = env.step(action)\n",
    "\n",
    "        # Append final reward for each episode\n",
    "        episode_reward += reward\n",
    "\n",
    "        # Save experience\n",
    "        experiences_memory.append([state, action, reward, next_state, done])\n",
    "\n",
    "        # Switch to next state\n",
    "        state = next_state\n",
    "        \n",
    "        \n",
    "        if len(experiences_memory) >= batch_size:\n",
    "            experiences = random.sample(experiences_memory, batch_size)\n",
    "            \n",
    "            states = np.vstack([x[0] for x in experiences])\n",
    "            actions = np.array([x[1] for x in experiences])\n",
    "            rewards = np.array([x[2] for x in experiences])\n",
    "            next_states = np.vstack([x[3] for x in experiences])\n",
    "            episode_done = np.array([x[4] for x in experiences])\n",
    "\n",
    "            curr_v = critic.predict_Q(states)\n",
    "            next_v = critic.predict_Q(next_states)\n",
    "            bootstrapped_value = rewards + decay * next_v[:, 0] * ~episode_done\n",
    "            actor.train_policy(states, actions, bootstrapped_value - curr_v[:, 0])\n",
    "            critic.train_Q(states, bootstrapped_value)\n",
    "            \n",
    "\n",
    "    if (episode + 1) % checkpoint == 0:\n",
    "        print(\"Episode: %d, Mean reward: %d\" % (episode, np.mean(all_rewards[-100:])))\n",
    "    \n",
    "    all_rewards.append(episode_reward)\n",
    "    \n",
    "    if np.mean(all_rewards[-100:]) > 199.5:\n",
    "        break\n",
    "\n",
    "stats(all_rewards)\n",
    "\n",
    "print(\"Play 20 times with optimal policy\")\n",
    "for i in range(20):\n",
    "    state = env.reset()\n",
    "    done = False\n",
    "    total_reward = 0\n",
    "    while not done:\n",
    "        state, reward, done, _ = env.step(np.random.choice(range(2), p=actor.predict_policy(state)[0]))\n",
    "        total_reward += reward\n",
    "        env.render()\n",
    "    print(\"Iteration: %d, Total Reward: %d\" % (i, total_reward))\n",
    "    \n",
    "sess.close()\n",
    "env.close()"
   ]
  }
 ],
 "metadata": {
  "kernelspec": {
   "display_name": "Python 3",
   "language": "python",
   "name": "python3"
  },
  "language_info": {
   "codemirror_mode": {
    "name": "ipython",
    "version": 3
   },
   "file_extension": ".py",
   "mimetype": "text/x-python",
   "name": "python",
   "nbconvert_exporter": "python",
   "pygments_lexer": "ipython3",
   "version": "3.5.2"
  }
 },
 "nbformat": 4,
 "nbformat_minor": 0
}
